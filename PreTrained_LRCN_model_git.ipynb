{
  "cells": [
    {
      "cell_type": "markdown",
      "metadata": {
        "id": "view-in-github",
        "colab_type": "text"
      },
      "source": [
        "<a href=\"https://colab.research.google.com/github/Rezowan-Ferdous/LRCN_Resnet/blob/main/PreTrained_LRCN_model_git.ipynb\" target=\"_parent\"><img src=\"https://colab.research.google.com/assets/colab-badge.svg\" alt=\"Open In Colab\"/></a>"
      ]
    },
    {
      "cell_type": "code",
      "execution_count": null,
      "id": "61b2a19f",
      "metadata": {
        "id": "61b2a19f",
        "outputId": "7c7c07cb-faaa-4a26-987c-1294f58485a9",
        "colab": {
          "base_uri": "https://localhost:8080/"
        }
      },
      "outputs": [
        {
          "output_type": "stream",
          "name": "stdout",
          "text": [
            "Looking in indexes: https://pypi.org/simple, https://us-python.pkg.dev/colab-wheels/public/simple/\n",
            "Collecting mlflow\n",
            "  Downloading mlflow-2.3.2-py3-none-any.whl (17.7 MB)\n",
            "\u001b[2K     \u001b[90m━━━━━━━━━━━━━━━━━━━━━━━━━━━━━━━━━━━━━━━━\u001b[0m \u001b[32m17.7/17.7 MB\u001b[0m \u001b[31m90.8 MB/s\u001b[0m eta \u001b[36m0:00:00\u001b[0m\n",
            "\u001b[?25hRequirement already satisfied: click<9,>=7.0 in /usr/local/lib/python3.10/dist-packages (from mlflow) (8.1.3)\n",
            "Requirement already satisfied: cloudpickle<3 in /usr/local/lib/python3.10/dist-packages (from mlflow) (2.2.1)\n",
            "Collecting databricks-cli<1,>=0.8.7 (from mlflow)\n",
            "  Downloading databricks-cli-0.17.7.tar.gz (83 kB)\n",
            "\u001b[2K     \u001b[90m━━━━━━━━━━━━━━━━━━━━━━━━━━━━━━━━━━━━━━━━\u001b[0m \u001b[32m83.5/83.5 kB\u001b[0m \u001b[31m13.5 MB/s\u001b[0m eta \u001b[36m0:00:00\u001b[0m\n",
            "\u001b[?25h  Preparing metadata (setup.py) ... \u001b[?25l\u001b[?25hdone\n",
            "Requirement already satisfied: entrypoints<1 in /usr/local/lib/python3.10/dist-packages (from mlflow) (0.4)\n",
            "Collecting gitpython<4,>=2.1.0 (from mlflow)\n",
            "  Downloading GitPython-3.1.31-py3-none-any.whl (184 kB)\n",
            "\u001b[2K     \u001b[90m━━━━━━━━━━━━━━━━━━━━━━━━━━━━━━━━━━━━━━\u001b[0m \u001b[32m184.3/184.3 kB\u001b[0m \u001b[31m26.0 MB/s\u001b[0m eta \u001b[36m0:00:00\u001b[0m\n",
            "\u001b[?25hRequirement already satisfied: pyyaml<7,>=5.1 in /usr/local/lib/python3.10/dist-packages (from mlflow) (6.0)\n",
            "Requirement already satisfied: protobuf<5,>=3.12.0 in /usr/local/lib/python3.10/dist-packages (from mlflow) (3.20.3)\n",
            "Requirement already satisfied: pytz<2024 in /usr/local/lib/python3.10/dist-packages (from mlflow) (2022.7.1)\n",
            "Requirement already satisfied: requests<3,>=2.17.3 in /usr/local/lib/python3.10/dist-packages (from mlflow) (2.27.1)\n",
            "Requirement already satisfied: packaging<24 in /usr/local/lib/python3.10/dist-packages (from mlflow) (23.1)\n",
            "Collecting importlib-metadata!=4.7.0,<7,>=3.7.0 (from mlflow)\n",
            "  Downloading importlib_metadata-6.6.0-py3-none-any.whl (22 kB)\n",
            "Requirement already satisfied: sqlparse<1,>=0.4.0 in /usr/local/lib/python3.10/dist-packages (from mlflow) (0.4.4)\n",
            "Collecting alembic!=1.10.0,<2 (from mlflow)\n",
            "  Downloading alembic-1.11.1-py3-none-any.whl (224 kB)\n",
            "\u001b[2K     \u001b[90m━━━━━━━━━━━━━━━━━━━━━━━━━━━━━━━━━━━━━━\u001b[0m \u001b[32m224.5/224.5 kB\u001b[0m \u001b[31m29.7 MB/s\u001b[0m eta \u001b[36m0:00:00\u001b[0m\n",
            "\u001b[?25hCollecting docker<7,>=4.0.0 (from mlflow)\n",
            "  Downloading docker-6.1.3-py3-none-any.whl (148 kB)\n",
            "\u001b[2K     \u001b[90m━━━━━━━━━━━━━━━━━━━━━━━━━━━━━━━━━━━━━━\u001b[0m \u001b[32m148.1/148.1 kB\u001b[0m \u001b[31m20.4 MB/s\u001b[0m eta \u001b[36m0:00:00\u001b[0m\n",
            "\u001b[?25hRequirement already satisfied: Flask<3 in /usr/local/lib/python3.10/dist-packages (from mlflow) (2.2.4)\n",
            "Requirement already satisfied: numpy<2 in /usr/local/lib/python3.10/dist-packages (from mlflow) (1.22.4)\n",
            "Requirement already satisfied: scipy<2 in /usr/local/lib/python3.10/dist-packages (from mlflow) (1.10.1)\n",
            "Requirement already satisfied: pandas<3 in /usr/local/lib/python3.10/dist-packages (from mlflow) (1.5.3)\n",
            "Collecting querystring-parser<2 (from mlflow)\n",
            "  Downloading querystring_parser-1.2.4-py2.py3-none-any.whl (7.9 kB)\n",
            "Requirement already satisfied: sqlalchemy<3,>=1.4.0 in /usr/local/lib/python3.10/dist-packages (from mlflow) (2.0.10)\n",
            "Requirement already satisfied: scikit-learn<2 in /usr/local/lib/python3.10/dist-packages (from mlflow) (1.2.2)\n",
            "Requirement already satisfied: pyarrow<12,>=4.0.0 in /usr/local/lib/python3.10/dist-packages (from mlflow) (9.0.0)\n",
            "Requirement already satisfied: markdown<4,>=3.3 in /usr/local/lib/python3.10/dist-packages (from mlflow) (3.4.3)\n",
            "Requirement already satisfied: matplotlib<4 in /usr/local/lib/python3.10/dist-packages (from mlflow) (3.7.1)\n",
            "Collecting gunicorn<21 (from mlflow)\n",
            "  Downloading gunicorn-20.1.0-py3-none-any.whl (79 kB)\n",
            "\u001b[2K     \u001b[90m━━━━━━━━━━━━━━━━━━━━━━━━━━━━━━━━━━━━━━━━\u001b[0m \u001b[32m79.5/79.5 kB\u001b[0m \u001b[31m11.0 MB/s\u001b[0m eta \u001b[36m0:00:00\u001b[0m\n",
            "\u001b[?25hRequirement already satisfied: Jinja2<4,>=2.11 in /usr/local/lib/python3.10/dist-packages (from mlflow) (3.1.2)\n",
            "Collecting Mako (from alembic!=1.10.0,<2->mlflow)\n",
            "  Downloading Mako-1.2.4-py3-none-any.whl (78 kB)\n",
            "\u001b[2K     \u001b[90m━━━━━━━━━━━━━━━━━━━━━━━━━━━━━━━━━━━━━━━━\u001b[0m \u001b[32m78.7/78.7 kB\u001b[0m \u001b[31m11.0 MB/s\u001b[0m eta \u001b[36m0:00:00\u001b[0m\n",
            "\u001b[?25hRequirement already satisfied: typing-extensions>=4 in /usr/local/lib/python3.10/dist-packages (from alembic!=1.10.0,<2->mlflow) (4.5.0)\n",
            "Collecting pyjwt>=1.7.0 (from databricks-cli<1,>=0.8.7->mlflow)\n",
            "  Downloading PyJWT-2.7.0-py3-none-any.whl (22 kB)\n",
            "Requirement already satisfied: oauthlib>=3.1.0 in /usr/local/lib/python3.10/dist-packages (from databricks-cli<1,>=0.8.7->mlflow) (3.2.2)\n",
            "Requirement already satisfied: tabulate>=0.7.7 in /usr/local/lib/python3.10/dist-packages (from databricks-cli<1,>=0.8.7->mlflow) (0.8.10)\n",
            "Requirement already satisfied: six>=1.10.0 in /usr/local/lib/python3.10/dist-packages (from databricks-cli<1,>=0.8.7->mlflow) (1.16.0)\n",
            "Requirement already satisfied: urllib3<2.0.0,>=1.26.7 in /usr/local/lib/python3.10/dist-packages (from databricks-cli<1,>=0.8.7->mlflow) (1.26.15)\n",
            "Requirement already satisfied: websocket-client>=0.32.0 in /usr/local/lib/python3.10/dist-packages (from docker<7,>=4.0.0->mlflow) (1.5.1)\n",
            "Requirement already satisfied: Werkzeug>=2.2.2 in /usr/local/lib/python3.10/dist-packages (from Flask<3->mlflow) (2.3.0)\n",
            "Requirement already satisfied: itsdangerous>=2.0 in /usr/local/lib/python3.10/dist-packages (from Flask<3->mlflow) (2.1.2)\n",
            "Collecting gitdb<5,>=4.0.1 (from gitpython<4,>=2.1.0->mlflow)\n",
            "  Downloading gitdb-4.0.10-py3-none-any.whl (62 kB)\n",
            "\u001b[2K     \u001b[90m━━━━━━━━━━━━━━━━━━━━━━━━━━━━━━━━━━━━━━━━\u001b[0m \u001b[32m62.7/62.7 kB\u001b[0m \u001b[31m8.8 MB/s\u001b[0m eta \u001b[36m0:00:00\u001b[0m\n",
            "\u001b[?25hRequirement already satisfied: setuptools>=3.0 in /usr/local/lib/python3.10/dist-packages (from gunicorn<21->mlflow) (67.7.2)\n",
            "Requirement already satisfied: zipp>=0.5 in /usr/local/lib/python3.10/dist-packages (from importlib-metadata!=4.7.0,<7,>=3.7.0->mlflow) (3.15.0)\n",
            "Requirement already satisfied: MarkupSafe>=2.0 in /usr/local/lib/python3.10/dist-packages (from Jinja2<4,>=2.11->mlflow) (2.1.2)\n",
            "Requirement already satisfied: contourpy>=1.0.1 in /usr/local/lib/python3.10/dist-packages (from matplotlib<4->mlflow) (1.0.7)\n",
            "Requirement already satisfied: cycler>=0.10 in /usr/local/lib/python3.10/dist-packages (from matplotlib<4->mlflow) (0.11.0)\n",
            "Requirement already satisfied: fonttools>=4.22.0 in /usr/local/lib/python3.10/dist-packages (from matplotlib<4->mlflow) (4.39.3)\n",
            "Requirement already satisfied: kiwisolver>=1.0.1 in /usr/local/lib/python3.10/dist-packages (from matplotlib<4->mlflow) (1.4.4)\n",
            "Requirement already satisfied: pillow>=6.2.0 in /usr/local/lib/python3.10/dist-packages (from matplotlib<4->mlflow) (8.4.0)\n",
            "Requirement already satisfied: pyparsing>=2.3.1 in /usr/local/lib/python3.10/dist-packages (from matplotlib<4->mlflow) (3.0.9)\n",
            "Requirement already satisfied: python-dateutil>=2.7 in /usr/local/lib/python3.10/dist-packages (from matplotlib<4->mlflow) (2.8.2)\n",
            "Requirement already satisfied: certifi>=2017.4.17 in /usr/local/lib/python3.10/dist-packages (from requests<3,>=2.17.3->mlflow) (2022.12.7)\n",
            "Requirement already satisfied: charset-normalizer~=2.0.0 in /usr/local/lib/python3.10/dist-packages (from requests<3,>=2.17.3->mlflow) (2.0.12)\n",
            "Requirement already satisfied: idna<4,>=2.5 in /usr/local/lib/python3.10/dist-packages (from requests<3,>=2.17.3->mlflow) (3.4)\n",
            "Requirement already satisfied: joblib>=1.1.1 in /usr/local/lib/python3.10/dist-packages (from scikit-learn<2->mlflow) (1.2.0)\n",
            "Requirement already satisfied: threadpoolctl>=2.0.0 in /usr/local/lib/python3.10/dist-packages (from scikit-learn<2->mlflow) (3.1.0)\n",
            "Requirement already satisfied: greenlet!=0.4.17 in /usr/local/lib/python3.10/dist-packages (from sqlalchemy<3,>=1.4.0->mlflow) (2.0.2)\n",
            "Collecting smmap<6,>=3.0.1 (from gitdb<5,>=4.0.1->gitpython<4,>=2.1.0->mlflow)\n",
            "  Downloading smmap-5.0.0-py3-none-any.whl (24 kB)\n",
            "Building wheels for collected packages: databricks-cli\n",
            "  Building wheel for databricks-cli (setup.py) ... \u001b[?25l\u001b[?25hdone\n",
            "  Created wheel for databricks-cli: filename=databricks_cli-0.17.7-py3-none-any.whl size=143860 sha256=7c73959ac86e79ded166c4d0792556c6522ac6a1d447b3d08a54476596d5ca8d\n",
            "  Stored in directory: /root/.cache/pip/wheels/ae/63/93/5402c1a09c1868a59d0b05013484e07af97a9d7b3dbd5bd39a\n",
            "Successfully built databricks-cli\n",
            "Installing collected packages: smmap, querystring-parser, pyjwt, Mako, importlib-metadata, gunicorn, gitdb, docker, databricks-cli, alembic, gitpython, mlflow\n",
            "Successfully installed Mako-1.2.4 alembic-1.11.1 databricks-cli-0.17.7 docker-6.1.3 gitdb-4.0.10 gitpython-3.1.31 gunicorn-20.1.0 importlib-metadata-6.6.0 mlflow-2.3.2 pyjwt-2.7.0 querystring-parser-1.2.4 smmap-5.0.0\n"
          ]
        }
      ],
      "source": [
        "pip install mlflow"
      ]
    },
    {
      "cell_type": "code",
      "execution_count": null,
      "id": "33b4bc75",
      "metadata": {
        "id": "33b4bc75"
      },
      "outputs": [],
      "source": [
        "\"\"\"\n",
        "VideoFrameGenerator - Simple Generator\n",
        "--------------------------------------\n",
        "A simple frame generator that takes distributed frames from\n",
        "videos. It is useful for videos that are scaled from frame 0 to end\n",
        "and that have no noise frames.\n",
        "\"\"\"\n",
        "\n",
        "import os\n",
        "import glob\n",
        "import numpy as np\n",
        "import cv2 as cv\n",
        "from math import floor\n",
        "import logging\n",
        "import re\n",
        "log = logging.getLogger()\n",
        "\n",
        "from keras.utils import Sequence\n",
        "# from tensorflow.keras.models import Sequential\n",
        "from keras.preprocessing.image import ImageDataGenerator\n",
        "import tensorflow as tf\n",
        "import h5py\n",
        "from keras.models import load_model\n",
        "from keras.models import save_model\n"
      ]
    },
    {
      "cell_type": "code",
      "execution_count": null,
      "id": "d6244895",
      "metadata": {
        "id": "d6244895"
      },
      "outputs": [],
      "source": [
        "\n",
        "\n",
        "def load_model_ext(filepath):\n",
        "    model = load_model(filepath, custom_objects=None)\n",
        "    f = h5py.File(filepath, mode='r')\n",
        "    meta_data = None\n",
        "    if 'my_meta_data' in f.attrs:\n",
        "        meta_data = f.attrs.get('my_meta_data')\n",
        "    f.close()\n",
        "    return model, meta_data\n",
        "\n",
        "\n",
        "def save_model_ext(model, filepath, overwrite=True, meta_data=None):\n",
        "    save_model(model, filepath, overwrite)\n",
        "    if meta_data is not None:\n",
        "        f = h5py.File(filepath, mode='a')\n",
        "        f.attrs['my_meta_data'] = meta_data\n",
        "        f.close()\n",
        "\n",
        "\n",
        "class VideoFrameGenerator(Sequence):\n",
        "    \"\"\"\n",
        "    Create a generator that return batches of frames from video\n",
        "    - rescale: float fraction to rescale pixel data (commonly 1/255.)\n",
        "    - nb_frames: int, number of frames to return for each sequence\n",
        "    - classes: list of str, classes to infer\n",
        "    - batch_size: int, batch size for each loop\n",
        "    - use_frame_cache: bool, use frame cache (may take a lot of memory for \\\n",
        "        large dataset)\n",
        "    - shape: tuple, target size of the frames\n",
        "    - shuffle: bool, randomize files\n",
        "    - transformation: ImageDataGenerator with transformations\n",
        "    - split: float, factor to split files and validation\n",
        "    - nb_channel: int, 1 or 3, to get grayscaled or RGB images\n",
        "    - glob_pattern: string, directory path with '{classname}' inside that \\\n",
        "        will be replaced by one of the class list\n",
        "    - use_header: bool, default to True to use video header to read the \\\n",
        "        frame count if possible\n",
        "\n",
        "    You may use the \"classes\" property to retrieve the class list afterward.\n",
        "    The generator has that properties initialized:\n",
        "    - classes_count: number of classes that the generator manages\n",
        "    - files_count: number of video that the generator can provides\n",
        "    - classes: the given class list\n",
        "    - files: the full file list that the generator will use, this \\\n",
        "        is usefull if you want to remove some files that should not be \\\n",
        "        used by the generator.\n",
        "    \"\"\"\n",
        "\n",
        "    def __init__(\n",
        "            self,\n",
        "            rescale=1/255.,\n",
        "            nb_frames: int = 5,\n",
        "            classes: list = None,\n",
        "            batch_size: int = 16,\n",
        "            use_frame_cache: bool = False,\n",
        "            target_shape: tuple = (224, 224),\n",
        "            shuffle: bool = True,\n",
        "            transformation: ImageDataGenerator = None,\n",
        "            split_test: float = None,\n",
        "            split_val: float = None,\n",
        "            nb_channel: int = 3,\n",
        "            glob_pattern: str = './videos/{classname}/*.avi',\n",
        "            use_headers: bool = True,\n",
        "            *args,\n",
        "            **kwargs):\n",
        "\n",
        "        # deprecation\n",
        "        if 'split' in kwargs:\n",
        "            log.warn(\"Warning, `split` argument is replaced by `split_val`, \"\n",
        "                     \"please condider to change your source code.\"\n",
        "                     \"The `split` argument will be removed \"\n",
        "                     \"in future releases.\")\n",
        "            split_val = float(kwargs.get('split'))\n",
        "\n",
        "        self.glob_pattern = glob_pattern\n",
        "\n",
        "        # should be only RGB or Grayscale\n",
        "        assert nb_channel in (1, 3)\n",
        "\n",
        "        if classes is None:\n",
        "            classes = self._discover_classes()\n",
        "\n",
        "        # we should have classes\n",
        "        if len(classes) == 0:\n",
        "            log.warn(\"You didn't provide classes list or \"\n",
        "                     \"we were not able to discover them from \"\n",
        "                     \"your pattern.\\n\"\n",
        "                     \"Please check if the path is OK, and if the glob \"\n",
        "                     \"pattern is correct.\\n\"\n",
        "                     \"See https://docs.python.org/3/library/glob.html\")\n",
        "\n",
        "        # shape size should be 2\n",
        "        assert len(target_shape) == 2\n",
        "\n",
        "        # split factor should be a propoer value\n",
        "        if split_val is not None:\n",
        "            assert 0.0 < split_val < 1.0\n",
        "\n",
        "        if split_test is not None:\n",
        "            assert 0.0 < split_test < 1.0\n",
        "\n",
        "        self.use_video_header = use_headers\n",
        "\n",
        "        # then we don't need None anymore\n",
        "        split_val = split_val if split_val is not None else 0.0\n",
        "        split_test = split_test if split_test is not None else 0.0\n",
        "\n",
        "        # be sure that classes are well ordered\n",
        "        classes.sort()\n",
        "\n",
        "        self.rescale = rescale\n",
        "        self.classes = classes\n",
        "        self.batch_size = batch_size\n",
        "        self.nbframe = nb_frames\n",
        "        self.shuffle = shuffle\n",
        "        self.target_shape = target_shape\n",
        "        self.nb_channel = nb_channel\n",
        "        self.transformation = transformation\n",
        "        self.use_frame_cache = use_frame_cache\n",
        "\n",
        "        self._random_trans = []\n",
        "        self.__frame_cache = {}\n",
        "        self.files = []\n",
        "        self.validation = []\n",
        "        self.test = []\n",
        "\n",
        "        _validation_data = kwargs.get('_validation_data', None)\n",
        "        _test_data = kwargs.get('_test_data', None)\n",
        "\n",
        "        if _validation_data is not None:\n",
        "            # we only need to set files here\n",
        "            self.files = _validation_data\n",
        "\n",
        "        elif _test_data is not None:\n",
        "            # we only need to set files here\n",
        "            self.files = _test_data\n",
        "\n",
        "        else:\n",
        "            if split_val > 0 or split_test > 0:\n",
        "                for cls in classes:\n",
        "                    files = glob.glob(glob_pattern.format(classname=cls))\n",
        "                    nbval = 0\n",
        "                    nbtest = 0\n",
        "                    info = []\n",
        "\n",
        "                    # generate validation and test indexes\n",
        "                    indexes = np.arange(len(files))\n",
        "\n",
        "                    if shuffle:\n",
        "                        np.random.shuffle(indexes)\n",
        "\n",
        "                    if 0.0 < split_val < 1.0:\n",
        "                        nbval = int(split_val * len(files))\n",
        "                        nbtrain = len(files) - nbval\n",
        "\n",
        "                        # get some sample for validation_data\n",
        "                        val = np.random.permutation(indexes)[:nbval]\n",
        "\n",
        "                        # remove validation from train\n",
        "                        indexes = np.array(\n",
        "                            [i for i in indexes if i not in val])\n",
        "                        self.validation += [files[i] for i in val]\n",
        "                        info.append(\"validation count: %d\" % nbval)\n",
        "\n",
        "                    if 0.0 < split_test < 1.0:\n",
        "                        nbtest = int(split_test * nbtrain)\n",
        "                        nbtrain = len(files) - nbval - nbtest\n",
        "\n",
        "                        # get some sample for test_data\n",
        "                        val_test = np.random.permutation(indexes)[:nbtest]\n",
        "\n",
        "                        # remove test from train\n",
        "                        indexes = np.array(\n",
        "                            [i for i in indexes if i not in val_test])\n",
        "                        self.test += [files[i] for i in val_test]\n",
        "                        info.append(\"test count: %d\" % nbtest)\n",
        "\n",
        "                    # and now, make the file list\n",
        "                    self.files += [files[i] for i in indexes]\n",
        "                    print(\"class %s, %s, train count: %d\" %\n",
        "                          (cls, \", \".join(info), nbtrain))\n",
        "\n",
        "            else:\n",
        "                for cls in classes:\n",
        "                    self.files += glob.glob(glob_pattern.format(classname=cls))\n",
        "\n",
        "        # build indexes\n",
        "        self.files_count = len(self.files)\n",
        "        self.indexes = np.arange(self.files_count)\n",
        "        self.classes_count = len(classes)\n",
        "\n",
        "        # to initialize transformations and shuffle indices\n",
        "        if 'no_epoch_at_init' not in kwargs:\n",
        "            self.on_epoch_end()\n",
        "\n",
        "        kind = \"train\"\n",
        "        if _validation_data is not None:\n",
        "            kind = \"validation\"\n",
        "        elif _test_data is not None:\n",
        "            kind = \"test\"\n",
        "\n",
        "        self._current = 0\n",
        "        self._framecounters = {}\n",
        "        print(\"Total data: %d classes for %d files for %s\" % (\n",
        "            self.classes_count,\n",
        "            self.files_count,\n",
        "            kind))\n",
        "\n",
        "    def count_frames(self, cap, name, force_no_headers=False):\n",
        "        \"\"\" Count number of frame for video\n",
        "        if it's not possible with headers \"\"\"\n",
        "        if not force_no_headers and name in self._framecounters:\n",
        "            return self._framecounters[name]\n",
        "\n",
        "        total = cap.get(cv.CAP_PROP_FRAME_COUNT)\n",
        "\n",
        "        if force_no_headers or total < 0:\n",
        "            # headers not ok\n",
        "            total = 0\n",
        "            # TODO: we're unable to use CAP_PROP_POS_FRAME here\n",
        "            # so we open a new capture to not change the\n",
        "            # pointer position of \"cap\"\n",
        "            c = cv.VideoCapture(name)\n",
        "            while True:\n",
        "                grabbed, frame = c.read()\n",
        "                if not grabbed:\n",
        "                    # rewind and stop\n",
        "                    break\n",
        "                total += 1\n",
        "\n",
        "        # keep the result\n",
        "        self._framecounters[name] = total\n",
        "\n",
        "        return total\n",
        "\n",
        "    def _discover_classes(self):\n",
        "        pattern = os.path.realpath(self.glob_pattern)\n",
        "        pattern = re.escape(pattern)\n",
        "        pattern = pattern.replace('\\\\{classname\\\\}', '(.*?)')\n",
        "        pattern = pattern.replace('\\\\*', '.*')\n",
        "\n",
        "        files = glob.glob(self.glob_pattern.replace('{classname}', '*'))\n",
        "        classes = set()\n",
        "        for f in files:\n",
        "            f = os.path.realpath(f)\n",
        "            cl = re.findall(pattern, f)[0]\n",
        "            classes.add(cl)\n",
        "\n",
        "        return list(classes)\n",
        "\n",
        "    def next(self):\n",
        "        \"\"\" Return next element\"\"\"\n",
        "        elem = self[self._current]\n",
        "        self._current += 1\n",
        "        if self._current == len(self):\n",
        "            self._current = 0\n",
        "            self.on_epoch_end()\n",
        "\n",
        "        return elem\n",
        "\n",
        "    def get_validation_generator(self):\n",
        "        \"\"\" Return the validation generator if you've provided split factor \"\"\"\n",
        "        return self.__class__(\n",
        "            nb_frames=self.nbframe,\n",
        "            nb_channel=self.nb_channel,\n",
        "            target_shape=self.target_shape,\n",
        "            classes=self.classes,\n",
        "            batch_size=self.batch_size,\n",
        "            shuffle=self.shuffle,\n",
        "            rescale=self.rescale,\n",
        "            glob_pattern=self.glob_pattern,\n",
        "            use_headers=self.use_video_header,\n",
        "            _validation_data=self.validation)\n",
        "\n",
        "    def get_test_generator(self):\n",
        "        \"\"\" Return the validation generator if you've provided split factor \"\"\"\n",
        "        return self.__class__(\n",
        "            nb_frames=self.nbframe,\n",
        "            nb_channel=self.nb_channel,\n",
        "            target_shape=self.target_shape,\n",
        "            classes=self.classes,\n",
        "            batch_size=self.batch_size,\n",
        "            shuffle=self.shuffle,\n",
        "            rescale=self.rescale,\n",
        "            glob_pattern=self.glob_pattern,\n",
        "            use_headers=self.use_video_header,\n",
        "            _test_data=self.test)\n",
        "\n",
        "    def on_epoch_end(self):\n",
        "        \"\"\" Called by Keras after each epoch \"\"\"\n",
        "\n",
        "        if self.transformation is not None:\n",
        "            self._random_trans = []\n",
        "            for _ in range(self.files_count):\n",
        "                self._random_trans.append(\n",
        "                    self.transformation.get_random_transform(self.target_shape)\n",
        "                )\n",
        "\n",
        "        if self.shuffle:\n",
        "            np.random.shuffle(self.indexes)\n",
        "\n",
        "    def __iter__(self):\n",
        "        return self\n",
        "\n",
        "    def __next__(self):\n",
        "        return self.next()\n",
        "\n",
        "    def __len__(self):\n",
        "        return int(np.floor(self.files_count / self.batch_size))\n",
        "\n",
        "    def __getitem__(self, index):\n",
        "        classes = self.classes\n",
        "        shape = self.target_shape\n",
        "        nbframe = self.nbframe\n",
        "\n",
        "        labels = []\n",
        "        images = []\n",
        "\n",
        "        indexes = self.indexes[index*self.batch_size:(index+1)*self.batch_size]\n",
        "\n",
        "        transformation = None\n",
        "\n",
        "        for i in indexes:\n",
        "            # prepare a transformation if provided\n",
        "            if self.transformation is not None:\n",
        "                transformation = self._random_trans[i]\n",
        "\n",
        "            video = self.files[i]\n",
        "            classname = self._get_classname(video)\n",
        "\n",
        "            # create a label array and set 1 to the right column\n",
        "            label = np.zeros(len(classes))\n",
        "            col = classes.index(classname)\n",
        "            label[col] = 1.\n",
        "\n",
        "            if video not in self.__frame_cache:\n",
        "                frames = self._get_frames(\n",
        "                    video,\n",
        "                    nbframe,\n",
        "                    shape,\n",
        "                    force_no_headers=not self.use_video_header)\n",
        "                if frames is None:\n",
        "                    # avoid failure, nevermind that video...\n",
        "                    continue\n",
        "\n",
        "                # add to cache\n",
        "                self.__frame_cache[video] = frames\n",
        "\n",
        "            else:\n",
        "                frames = self.__frame_cache[video]\n",
        "\n",
        "            # apply transformation\n",
        "            if transformation is not None:\n",
        "                frames = [self.transformation.apply_transform(\n",
        "                    frame, transformation) for frame in frames]\n",
        "\n",
        "            # add the sequence in batch\n",
        "            images.append(frames)\n",
        "            labels.append(label)\n",
        "\n",
        "        return np.array(images), np.array(labels)\n",
        "\n",
        "    def _get_classname(self, video: str) -> str:\n",
        "        \"\"\" Find classname from video filename following the pattern \"\"\"\n",
        "\n",
        "        # work with real path\n",
        "        video = os.path.realpath(video)\n",
        "        pattern = os.path.realpath(self.glob_pattern)\n",
        "\n",
        "        # remove special regexp chars\n",
        "        pattern = re.escape(pattern)\n",
        "\n",
        "        # get back \"*\" to make it \".*\" in regexp\n",
        "        pattern = pattern.replace('\\\\*', '.*')\n",
        "\n",
        "        # use {classname} as a capture\n",
        "        pattern = pattern.replace('\\\\{classname\\\\}', '(.*?)')\n",
        "\n",
        "        # and find all occurence\n",
        "        classname = re.findall(pattern, video)[0]\n",
        "        return classname\n",
        "\n",
        "    def _get_frames(self, video, nbframe, shape, force_no_headers=False):\n",
        "        cap = cv.VideoCapture(video)\n",
        "        total_frames = self.count_frames(cap, video, force_no_headers)\n",
        "        orig_total = total_frames\n",
        "        if total_frames % 2 != 0:\n",
        "            total_frames += 1\n",
        "        frame_step = floor(total_frames/(nbframe-1))\n",
        "        # TODO: fix that, a tiny video can have a frame_step that is\n",
        "        # under 1\n",
        "        frame_step = max(1, frame_step)\n",
        "        frames = []\n",
        "        frame_i = 0\n",
        "\n",
        "        while True:\n",
        "            grabbed, frame = cap.read()\n",
        "            if not grabbed:\n",
        "                break\n",
        "\n",
        "            frame_i += 1\n",
        "            if frame_i == 1 or frame_i % frame_step == 0 or frame_i == orig_total:\n",
        "                # resize\n",
        "                frame = cv.resize(frame, shape)\n",
        "\n",
        "                # use RGB or Grayscale ?\n",
        "                if self.nb_channel == 3:\n",
        "                    frame = cv.cvtColor(frame, cv.COLOR_BGR2RGB)\n",
        "                else:\n",
        "                    frame = cv.cvtColor(frame, cv.COLOR_RGB2GRAY)\n",
        "\n",
        "                # to np\n",
        "                frame = tf.keras.utils.img_to_array(frame) * self.rescale\n",
        "\n",
        "                # keep frame\n",
        "                frames.append(frame)\n",
        "\n",
        "            if len(frames) == nbframe:\n",
        "                break\n",
        "\n",
        "        cap.release()\n",
        "\n",
        "        if not force_no_headers and len(frames) != nbframe:\n",
        "            # There is a problem here\n",
        "            # That means that frame count in header is wrong or broken,\n",
        "            # so we need to force the full read of video to get the right\n",
        "            # frame counter\n",
        "            return self._get_frames(\n",
        "                    video,\n",
        "                    nbframe,\n",
        "                    shape,\n",
        "                    force_no_headers=True)\n",
        "\n",
        "        if force_no_headers and len(frames) != nbframe:\n",
        "            # and if we really couldn't find the real frame counter\n",
        "            # so we return None. Sorry, nothing can be done...\n",
        "            log.error(\"\\33[1;37;41m Frame count is not OK for video %s, \"\n",
        "                      \"%d total, %d extracted \\33[0m\" % (\n",
        "                        video, total_frames, len(frames)))\n",
        "            return None\n",
        "        return np.array(frames)"
      ]
    },
    {
      "cell_type": "code",
      "execution_count": null,
      "id": "70ceae51",
      "metadata": {
        "id": "70ceae51"
      },
      "outputs": [],
      "source": [
        "from keras import layers,applications\n",
        "from keras.models import Sequential\n",
        "\n",
        "\n",
        "def convlstm_model(SEQUENCE_LENGTH, IMAGE_SIZE, CLASSES_LIST):\n",
        "    '''\n",
        "    This function will construct the required convlstm model.\n",
        "    Returns:\n",
        "        model: It is the required constructed convlstm model.\n",
        "    '''\n",
        "\n",
        "    # We will use a Sequential model for model construction\n",
        "    model = Sequential()\n",
        "\n",
        "    # Define the Model Architecture.\n",
        "    ########################################################################################################################\n",
        "\n",
        "    model.add(layers.ConvLSTM2D(filters=8, kernel_size=(7, 7), activation='tanh', data_format=\"channels_last\",\n",
        "                                recurrent_dropout=0.2, return_sequences=True, input_shape=(SEQUENCE_LENGTH,\n",
        "                                                                                           IMAGE_SIZE, IMAGE_SIZE, 3)))\n",
        "\n",
        "    model.add(layers.MaxPooling3D(pool_size=(1, 2, 2),\n",
        "              padding='same', data_format='channels_last'))\n",
        "    model.add(layers.TimeDistributed(layers.Dropout(0.2)))\n",
        "\n",
        "    model.add(layers.ConvLSTM2D(filters=16, kernel_size=(5, 5), activation='tanh', data_format=\"channels_last\",\n",
        "                                recurrent_dropout=0.2, return_sequences=True))\n",
        "\n",
        "    model.add(layers.MaxPooling3D(pool_size=(1, 2, 2),\n",
        "              padding='same', data_format='channels_last'))\n",
        "    model.add(layers.TimeDistributed(layers.Dropout(0.2)))\n",
        "\n",
        "    model.add(layers.ConvLSTM2D(filters=32, kernel_size=(3, 3), activation='tanh', data_format=\"channels_last\",\n",
        "                                recurrent_dropout=0.2, return_sequences=True))\n",
        "\n",
        "    model.add(layers.MaxPooling3D(pool_size=(1, 2, 2),\n",
        "              padding='same', data_format='channels_last'))\n",
        "    model.add(layers.TimeDistributed(layers.Dropout(0.2)))\n",
        "\n",
        "    model.add(layers.ConvLSTM2D(filters=32, kernel_size=(3, 3), activation='tanh', data_format=\"channels_last\",\n",
        "                                recurrent_dropout=0.2, return_sequences=True))\n",
        "\n",
        "    model.add(layers.MaxPooling3D(pool_size=(1, 2, 2),\n",
        "              padding='same', data_format='channels_last'))\n",
        "    # model.add(TimeDistributed(Dropout(0.2)))\n",
        "\n",
        "    model.add(layers.Flatten())\n",
        "\n",
        "    model.add(layers.Dense(len(CLASSES_LIST), activation=\"softmax\"))\n",
        "\n",
        "    ########################################################################################################################\n",
        "\n",
        "    # Display the models summary.\n",
        "    model.summary()\n",
        "\n",
        "    # Return the constructed convlstm model.\n",
        "    return model\n",
        "lrelu = lambda x: tf.keras.activations.relu(x, alpha=0.1)\n",
        "\n",
        "def LRCN_model(SEQUENCE_LENGTH, IMAGE_SIZE, CLASSES_LIST):\n",
        "    '''\n",
        "    This function will construct the required LRCN model.\n",
        "    Returns:\n",
        "        model: It is the required constructed LRCN model.\n",
        "    '''\n",
        "    lrelu = lambda x: tf.keras.activations.relu(x, alpha=0.1)\n",
        "\n",
        "    # We will use a Sequential model for model construction.\n",
        "    model = Sequential()\n",
        "\n",
        "    # Define the Model Architecture.\n",
        "    ########################################################################################################################\n",
        "\n",
        "    model.add(layers.TimeDistributed(layers.Conv2D(16, (3, 3), padding='same', activation=lrelu),\n",
        "                                     input_shape=(SEQUENCE_LENGTH, IMAGE_SIZE, IMAGE_SIZE, 3)))\n",
        "\n",
        "    model.add(layers.TimeDistributed(layers.MaxPooling2D((4, 4))))\n",
        "    model.add(layers.TimeDistributed(layers.Dropout(0.25)))\n",
        "\n",
        "    model.add(layers.TimeDistributed(layers.Conv2D(\n",
        "        32, (3, 3), padding='same', activation=lrelu)))\n",
        "    model.add(layers.TimeDistributed(layers.MaxPooling2D((4, 4))))\n",
        "    model.add(layers.TimeDistributed(layers.Dropout(0.25)))\n",
        "\n",
        "    model.add(layers.TimeDistributed(layers.Conv2D(\n",
        "        64, (3, 3), padding='same', activation=lrelu)))\n",
        "    model.add(layers.TimeDistributed(layers.MaxPooling2D((2, 2))))\n",
        "    model.add(layers.TimeDistributed(layers.Dropout(0.25)))\n",
        "\n",
        "    model.add(layers.TimeDistributed(layers.Conv2D(\n",
        "        64, (3, 3), padding='same', activation=lrelu)))\n",
        "    model.add(layers.TimeDistributed(layers.MaxPooling2D((2, 2))))\n",
        "    model.add(layers.TimeDistributed(layers.Dropout(0.25)))\n",
        "\n",
        "    model.add(layers.TimeDistributed(layers.Flatten()))\n",
        "\n",
        "    # model.add(layers.LSTM(64, return_sequences=True))\n",
        "    model.add(layers.LSTM(256))\n",
        "\n",
        "    # model.add(layers.Bidirectional(layers.LSTM(64, activation='tanh'), name='bilstm'))   #(model)#双向LSTM层\n",
        "    # model.add(layers.Bidirectional(layers.LSTM(128, activation='tanh'), name='bilstm2'))   #(model)#双向LSTM层\n",
        "    # model.add(layers.MultiHeadAttention(num_heads=2, key_dim=2, attention_axes=(2, 3),value_dim=2,value=7))\n",
        "    # attention=Dense(lstm_units*2, activation='sigmoid', name='attention_vec')(model)#求解Attention权重\n",
        "    # model=Multiply()([model, attention])#attention与LSTM对应数值相乘\n",
        "\n",
        "\n",
        "\n",
        "    model.add(layers.Dense(256))\n",
        "    model.add(layers.Dropout(0.25))\n",
        "\n",
        "    model.add(layers.Dense(len(CLASSES_LIST), activation='softmax'))\n",
        "\n",
        "    ########################################################################################################################\n",
        "\n",
        "    # Display the models summary.\n",
        "    model.summary()\n",
        "\n",
        "    # Return the constructed LRCN model.\n",
        "    return model\n",
        "\n",
        "\n",
        "def LRCN_Resnet(SEQUENCE_LENGTH, IMAGE_SIZE, CLASSES_LIST):\n",
        "\n",
        "    res_model=applications.ResNet50V2(\n",
        "    include_top=False,\n",
        "    weights=\"imagenet\",\n",
        "    input_tensor=None,\n",
        "    input_shape=None,\n",
        "    pooling=None,\n",
        "    )\n",
        "    for layer in res_model.layers[:143]:\n",
        "      layer.trainable= False\n",
        "    model = Sequential()\n",
        "    model.add(layers.TimeDistributed(res_model, input_shape=(SEQUENCE_LENGTH, IMAGE_SIZE, IMAGE_SIZE, 3)))  # Example input shape: (sequence_length, height, width, channels)\n",
        "\n",
        "    # model.add(layers.TimeDistributed(res_model, input_shape=(SEQUENCE_LENGTH, IMAGE_SIZE, IMAGE_SIZE, 3)))  # Example input shape: (sequence_length, height, width, channels)\n",
        "\n",
        "    # # Define the Model Architecture.\n",
        "    # ########################################################################################################################\n",
        "    # model.add(layers.TimeDistributed(layers.Conv2D(16, (3, 3), padding='same', activation='relu')))\n",
        "    #                                   # input_shape=(SEQUENCE_LENGTH, IMAGE_SIZE, IMAGE_SIZE, 3))\n",
        "\n",
        "    # model.add(layers.TimeDistributed(layers.MaxPooling2D((4, 4))))\n",
        "    # model.add(layers.TimeDistributed(layers.Dropout(0.25)))\n",
        "\n",
        "    # model.add(layers.TimeDistributed(layers.Conv2D(32, (3, 3), padding='same', activation='relu')))\n",
        "    # model.add(layers.TimeDistributed(layers.MaxPooling2D((4, 4))))\n",
        "#     model.add(layers.TimeDistributed(layers.Dropout(0.25)))\n",
        "\n",
        "    model.add(layers.TimeDistributed(layers.Conv2D(128, (3, 3), padding='same', activation=lrelu)))\n",
        "    model.add(layers.TimeDistributed(layers.MaxPooling2D((2, 2))))\n",
        "    # model.add(layers.TimeDistributed(layers.Dropout(0.25)))\n",
        "\n",
        "    model.add(layers.TimeDistributed(layers.Conv2D(64, (3, 3), padding='same', activation=lrelu)))\n",
        "#     model.add(layers.TimeDistributed(layers.MaxPooling2D((2, 2))))\n",
        "#     model.add(layers.TimeDistributed(layers.Dropout(0.25)))\n",
        "\n",
        "    model.add(layers.TimeDistributed(layers.Flatten()))\n",
        "\n",
        "    # model.add(layers.LSTM(64, return_sequences=True))\n",
        "    model.add(layers.LSTM(256))\n",
        "\n",
        "#     model.add(layers.Dropout(0.25))\n",
        "\n",
        "    model.add(layers.Dense(len(CLASSES_LIST), activation='softmax'))\n",
        "\n",
        "    ########################################################################################################################\n",
        "\n",
        "    # Display the models summary.\n",
        "    model.summary()\n",
        "\n",
        "    # Return the constructed LRCN model.\n",
        "    return model\n"
      ]
    },
    {
      "cell_type": "code",
      "execution_count": null,
      "id": "8358423e",
      "metadata": {
        "id": "8358423e"
      },
      "outputs": [],
      "source": [
        "import random\n",
        "import numpy as np\n",
        "import tensorflow as tf\n",
        "import os\n",
        "import glob\n",
        "import matplotlib.pyplot as plt\n",
        "import argparse\n",
        "import time\n",
        "import mlflow\n",
        "import json\n",
        "\n",
        "from keras.callbacks import EarlyStopping, ModelCheckpoint\n",
        "# from models import convlstm_model, LRCN_model\n",
        "from keras.preprocessing.image import ImageDataGenerator\n",
        "# import VideoFrameGenerator, save_model_ext\n",
        "\n",
        "\n",
        "seed_constant = 27\n",
        "np.random.seed(seed_constant)\n",
        "random.seed(seed_constant)\n",
        "tf.random.set_seed(seed_constant)\n",
        "\n",
        "\n",
        "DATASET_DIR ='/content/drive/MyDrive/PHD/ActionPrediction/Dataset/UCF50'\n",
        "SEQUENCE_LENGTH = 16\n",
        "IMAGE_SIZE = 224\n",
        "model_type = 'LRCN'\n",
        "epochs = 50\n",
        "batch_size = 16\n",
        "\n",
        "# some global params\n",
        "SIZE = (IMAGE_SIZE, IMAGE_SIZE)\n",
        "CHANNELS = 3\n",
        "n = 0\n",
        "\n",
        "# pattern to get videos and classes\n",
        "glob_pattern= DATASET_DIR + '/{classname}/*'\n",
        "\n",
        "# Data Extraction Start\n",
        "s_time = time.time()\n",
        "\n",
        "# Specify the list containing the names of the classes used for training. Feel free to choose any set of classes.\n",
        "CLASSES_LIST = sorted(os.listdir(DATASET_DIR))\n",
        "labels_string = json.dumps(CLASSES_LIST + [SEQUENCE_LENGTH, IMAGE_SIZE])\n",
        "\n"
      ]
    },
    {
      "cell_type": "code",
      "execution_count": null,
      "id": "2bf0a8d1",
      "metadata": {
        "id": "2bf0a8d1"
      },
      "outputs": [],
      "source": [
        "# for data augmentation\n",
        "preprocessor = ImageDataGenerator(\n",
        "    rotation_range=10,\n",
        "    width_shift_range=0.1,\n",
        "    height_shift_range=0.1,\n",
        "    horizontal_flip=True\n",
        ")\n"
      ]
    },
    {
      "cell_type": "code",
      "source": [
        "from google.colab import drive\n",
        "drive.mount('/content/drive')"
      ],
      "metadata": {
        "colab": {
          "base_uri": "https://localhost:8080/"
        },
        "id": "Zc-wft_sEkH0",
        "outputId": "8d7bcac5-32f3-4d74-f9cb-3dcfb2a78db1"
      },
      "id": "Zc-wft_sEkH0",
      "execution_count": null,
      "outputs": [
        {
          "output_type": "stream",
          "name": "stdout",
          "text": [
            "Mounted at /content/drive\n"
          ]
        }
      ]
    },
    {
      "cell_type": "code",
      "execution_count": null,
      "id": "a1c5bf7e",
      "metadata": {
        "id": "a1c5bf7e",
        "outputId": "3f304d89-944b-4b4d-90e4-1168bb04471b",
        "colab": {
          "base_uri": "https://localhost:8080/"
        }
      },
      "outputs": [
        {
          "output_type": "stream",
          "name": "stdout",
          "text": [
            "class BaseballPitch, validation count: 15, test count: 6, train count: 129\n",
            "class Basketball, validation count: 13, test count: 6, train count: 118\n",
            "class BenchPress, validation count: 16, test count: 7, train count: 137\n",
            "class Biking, validation count: 14, test count: 6, train count: 128\n",
            "class Billiards, validation count: 15, test count: 6, train count: 129\n",
            "class BreastStroke, validation count: 10, test count: 4, train count: 87\n",
            "class CleanAndJerk, validation count: 11, test count: 5, train count: 96\n",
            "class Diving, validation count: 16, test count: 7, train count: 140\n",
            "class Drumming, validation count: 16, test count: 7, train count: 138\n",
            "class Fencing, validation count: 11, test count: 5, train count: 95\n",
            "class GolfSwing, validation count: 14, test count: 6, train count: 122\n",
            "class HighJump, validation count: 12, test count: 5, train count: 106\n",
            "class HorseRace, validation count: 12, test count: 5, train count: 110\n",
            "class HorseRiding, validation count: 19, test count: 8, train count: 170\n",
            "class HulaHoop, validation count: 12, test count: 5, train count: 108\n",
            "class JavelinThrow, validation count: 12, test count: 5, train count: 110\n",
            "class JugglingBalls, validation count: 12, test count: 5, train count: 105\n",
            "class JumpRope, validation count: 14, test count: 6, train count: 128\n",
            "class JumpingJack, validation count: 12, test count: 5, train count: 106\n",
            "class Kayaking, validation count: 15, test count: 7, train count: 135\n",
            "class Lunges, validation count: 14, test count: 6, train count: 121\n",
            "class MilitaryParade, validation count: 12, test count: 5, train count: 110\n",
            "class Mixing, validation count: 14, test count: 6, train count: 121\n",
            "class Nunchucks, validation count: 15, test count: 6, train count: 129\n",
            "class PizzaTossing, validation count: 11, test count: 5, train count: 98\n",
            "class PlayingGuitar, validation count: 16, test count: 7, train count: 137\n",
            "class PlayingPiano, validation count: 10, test count: 4, train count: 91\n",
            "class PlayingTabla, validation count: 12, test count: 5, train count: 107\n",
            "class PlayingViolin, validation count: 10, test count: 4, train count: 86\n",
            "class PoleVault, validation count: 17, test count: 7, train count: 146\n",
            "class PommelHorse, validation count: 12, test count: 5, train count: 108\n",
            "class PullUps, validation count: 12, test count: 5, train count: 111\n",
            "class Punch, validation count: 16, test count: 7, train count: 137\n",
            "class PushUps, validation count: 11, test count: 5, train count: 100\n",
            "class RockClimbingIndoor, validation count: 14, test count: 6, train count: 128\n",
            "class RopeClimbing, validation count: 13, test count: 5, train count: 112\n",
            "class Rowing, validation count: 13, test count: 6, train count: 118\n",
            "class SalsaSpin, validation count: 14, test count: 6, train count: 120\n",
            "class SkateBoarding, validation count: 12, test count: 5, train count: 103\n",
            "class Skiing, validation count: 14, test count: 6, train count: 124\n",
            "class Skijet, validation count: 10, test count: 4, train count: 86\n",
            "class SoccerJuggling, validation count: 15, test count: 7, train count: 134\n",
            "class Swing, validation count: 13, test count: 6, train count: 118\n",
            "class TaiChi, validation count: 10, test count: 4, train count: 86\n",
            "class TennisSwing, validation count: 16, test count: 7, train count: 144\n",
            "class ThrowDiscus, validation count: 13, test count: 5, train count: 113\n",
            "class TrampolineJumping, validation count: 11, test count: 5, train count: 103\n",
            "class VolleyballSpiking, validation count: 11, test count: 5, train count: 100\n",
            "class WalkingWithDog, validation count: 12, test count: 5, train count: 106\n",
            "class YoYo, validation count: 12, test count: 5, train count: 111\n",
            "Total data: 50 classes for 5805 files for train\n"
          ]
        }
      ],
      "source": [
        "# Create video frame generator\n",
        "train_gen = VideoFrameGenerator(\n",
        "    classes=CLASSES_LIST,\n",
        "    glob_pattern=glob_pattern,\n",
        "    nb_frames=SEQUENCE_LENGTH,\n",
        "#     split=.1,\n",
        "    split_val=.1,\n",
        "    split_test=.05,\n",
        "    shuffle=True,\n",
        "    batch_size=batch_size,\n",
        "    target_shape=SIZE,\n",
        "    nb_channel=CHANNELS,\n",
        "    transformation=preprocessor,\n",
        "    use_frame_cache=False\n",
        ")"
      ]
    },
    {
      "cell_type": "code",
      "execution_count": null,
      "id": "59e2212b",
      "metadata": {
        "id": "59e2212b"
      },
      "outputs": [],
      "source": []
    },
    {
      "cell_type": "code",
      "execution_count": null,
      "id": "04a47813",
      "metadata": {
        "id": "04a47813",
        "outputId": "b0b7b141-1149-40f9-f642-562601a40b2b",
        "colab": {
          "base_uri": "https://localhost:8080/"
        }
      },
      "outputs": [
        {
          "output_type": "stream",
          "name": "stdout",
          "text": [
            "Total data: 50 classes for 656 files for validation\n",
            "Total data: 50 classes for 280 files for test\n"
          ]
        }
      ],
      "source": [
        "# # Validation Generator\n",
        "# valid_gen = train_gen.get_validation_generator()\n",
        "\n",
        "# # Data Size\n",
        "# train_size = int(train_gen.files_count)\n",
        "# val_size = int(valid_gen.files_count)\n",
        "# total_data = train_size + val_size\n",
        "\n",
        "# Validation Generator\n",
        "valid_gen = train_gen.get_validation_generator()\n",
        "\n",
        "\n",
        "# Validation Generator\n",
        "test_gen = train_gen.get_test_generator()\n",
        "\n",
        "# Data Size\n",
        "train_size = int(train_gen.files_count)\n",
        "val_size = int(valid_gen.files_count)\n",
        "test_size = int(test_gen.files_count)\n",
        "total_data = train_size + val_size + test_size\n",
        "\n"
      ]
    },
    {
      "cell_type": "code",
      "execution_count": null,
      "id": "b1943adf",
      "metadata": {
        "id": "b1943adf",
        "outputId": "060469af-1dfd-42fb-91b7-7bf7fa3f21c5",
        "colab": {
          "base_uri": "https://localhost:8080/"
        }
      },
      "outputs": [
        {
          "output_type": "stream",
          "name": "stdout",
          "text": [
            "\u001b[5;30;43m [INFO] Selected LRCN Model \u001b[0m\n",
            "Model: \"sequential_1\"\n",
            "_________________________________________________________________\n",
            " Layer (type)                Output Shape              Param #   \n",
            "=================================================================\n",
            " time_distributed_5 (TimeDis  (None, 16, 7, 7, 2048)   23564800  \n",
            " tributed)                                                       \n",
            "                                                                 \n",
            " time_distributed_6 (TimeDis  (None, 16, 7, 7, 64)     1179712   \n",
            " tributed)                                                       \n",
            "                                                                 \n",
            " time_distributed_7 (TimeDis  (None, 16, 3, 3, 64)     0         \n",
            " tributed)                                                       \n",
            "                                                                 \n",
            " time_distributed_8 (TimeDis  (None, 16, 3, 3, 64)     36928     \n",
            " tributed)                                                       \n",
            "                                                                 \n",
            " time_distributed_9 (TimeDis  (None, 16, 576)          0         \n",
            " tributed)                                                       \n",
            "                                                                 \n",
            " lstm_1 (LSTM)               (None, 256)               852992    \n",
            "                                                                 \n",
            " dense (Dense)               (None, 50)                12850     \n",
            "                                                                 \n",
            "=================================================================\n",
            "Total params: 25,647,282\n",
            "Trainable params: 18,169,522\n",
            "Non-trainable params: 7,477,760\n",
            "_________________________________________________________________\n",
            "\u001b[1;37;42m [INFO] LRCN Created Successfully \u001b[0m\n",
            "\u001b[92m [INFO] Created runs/train/LRCN0 Folder \u001b[0m\n",
            "\u001b[92m [INFO] Successfully Created LRCN_model_str.png \u001b[0m\n"
          ]
        }
      ],
      "source": [
        "if model_type == 'LRCN':\n",
        "    print(\"\\33[5;30;43m [INFO] Selected LRCN Model \\33[0m\")\n",
        "#     model = LRCN_model(SEQUENCE_LENGTH, IMAGE_SIZE, CLASSES_LIST)\n",
        "    model = LRCN_Resnet(SEQUENCE_LENGTH, IMAGE_SIZE, CLASSES_LIST)\n",
        "    print(\"\\33[1;37;42m [INFO] LRCN Created Successfully \\33[0m\")\n",
        "else:\n",
        "    print('\\33[91m [INFO] Model NOT Choosen!! \\33[0m')\n",
        "\n",
        "# Model Dir\n",
        "while True:\n",
        "    path_to_model_dir = f'runs/train/{model_type}{n}'\n",
        "    if not os.path.isdir(path_to_model_dir):\n",
        "        os.makedirs(path_to_model_dir, exist_ok=True)\n",
        "        print(f'\\33[92m [INFO] Created {path_to_model_dir} Folder \\33[0m')\n",
        "        break\n",
        "    else:\n",
        "        n += 1\n",
        "\n",
        "png_name = f'{model_type}_model_str.png'\n",
        "path_to_model_str = os.path.join(path_to_model_dir, png_name)\n",
        "# Plot the structure of the contructed model.\n",
        "tf.keras.utils.plot_model(model, to_file=path_to_model_str,\n",
        "           show_shapes=True, show_layer_names=True)\n",
        "print(f'\\33[92m [INFO] Successfully Created {png_name} \\33[0m')\n"
      ]
    },
    {
      "cell_type": "code",
      "execution_count": null,
      "id": "39df962c",
      "metadata": {
        "id": "39df962c",
        "outputId": "389aa928-7be2-44df-e487-ddf5e66cffca",
        "colab": {
          "base_uri": "https://localhost:8080/"
        }
      },
      "outputs": [
        {
          "output_type": "stream",
          "name": "stdout",
          "text": [
            "\u001b[1;37;44m [INFO] LRCN Model Training Started... \u001b[0m\n"
          ]
        }
      ],
      "source": [
        "\n",
        "from tensorflow.keras import metrics\n",
        "\n",
        "\n",
        "# Create an Instance of Early Stopping Callback\n",
        "early_stopping_callback = EarlyStopping(\n",
        "    monitor='val_loss', patience=15, mode='min', restore_best_weights=True)\n",
        "\n",
        "# Model Checkpoint\n",
        "ckpt_path = os.path.join(path_to_model_dir, \"weight-{epoch:02d}-{val_accuracy:.2f}.h5\")\n",
        "checkpoint = ModelCheckpoint(\n",
        "    ckpt_path, monitor='val_accuracy',\n",
        "    verbose=1, save_best_only=False, mode='max'\n",
        ")\n",
        "\n",
        "# Compile the model and specify loss function, optimizer and metrics values to the model\n",
        "model.compile(loss='categorical_crossentropy',\n",
        "              optimizer='Adam', metrics=[\"accuracy\",metrics.AUC(), metrics.Precision(), metrics.Recall()])\n",
        "\n",
        "print(f'\\33[1;37;44m [INFO] {model_type} Model Training Started... \\33[0m')\n",
        "\n"
      ]
    },
    {
      "cell_type": "code",
      "execution_count": null,
      "id": "3c04ea75",
      "metadata": {
        "id": "3c04ea75",
        "outputId": "1c7154bf-ebeb-4ef2-cb20-ffb40e0fbcca",
        "colab": {
          "base_uri": "https://localhost:8080/"
        }
      },
      "outputs": [
        {
          "output_type": "stream",
          "name": "stderr",
          "text": [
            "2023/06/05 15:02:44 INFO mlflow.tracking.fluent: Experiment with name 'Action Recognition' does not exist. Creating a new experiment.\n"
          ]
        },
        {
          "output_type": "stream",
          "name": "stdout",
          "text": [
            "Epoch 1/5\n",
            "313/362 [========================>.....] - ETA: 13:15 - loss: 3.4626 - accuracy: 0.1004 - auc: 0.7485 - precision: 0.8429 - recall: 0.0118"
          ]
        }
      ],
      "source": [
        "# MLFlow\n",
        "mlflow.set_experiment('Action Recognition')\n",
        "with mlflow.start_run(run_name=f'{model_type}_model'):\n",
        "    mlflow.tensorflow.autolog()\n",
        "    # Start training the model.\n",
        "    history = model.fit(\n",
        "        train_gen,\n",
        "        validation_data=valid_gen,\n",
        "        batch_size=batch_size,\n",
        "        epochs=epochs,\n",
        "        callbacks=[early_stopping_callback, checkpoint]\n",
        "    )\n",
        "\n",
        "    print(f'\\33[1;37;42m [INFO] Successfully Completed {model_type} Model Training \\33[0m')\n",
        "\n",
        "    # Training End\n",
        "    te_time = time.time()\n",
        "    t2 = (te_time-s_time)/60\n",
        "    print(f'\\33[5;30;46m [INFO] Model Training Completed in {round(t2, 2)} Minutes \\33[0m')\n",
        "\n",
        "    # Evaluate the trained model.\n",
        "    model_evaluation_history = model.evaluate(valid_gen)\n",
        "\n",
        "    # Get the loss and accuracy from model_evaluation_history.\n",
        "    model_evaluation_loss, model_evaluation_accuracy = model_evaluation_history\n",
        "\n",
        "    # Define a useful name for our model to make it easy for us while navigating through multiple saved models.\n",
        "    model_file_name = f'{model_type}_model_loss_{model_evaluation_loss:.3}_acc_{model_evaluation_accuracy:.3}.h5'\n",
        "\n",
        "    # Save your Model\n",
        "    path_to_save_model = os.path.join(path_to_model_dir, model_file_name)\n",
        "    # model.save(path_to_save_model)\n",
        "    # Saved model with class names\n",
        "    save_model_ext(model, path_to_save_model, meta_data=labels_string)\n",
        "    print(f'\\33[1;37;42m [INFO] Model {model_file_name} saved Successfully.. \\33[0m')\n",
        "\n",
        "    # Model Size\n",
        "    mb_size = os.path.getsize(f'{path_to_save_model}')\n",
        "    mb_size = round(mb_size / 1e+6, 2)\n",
        "    print(f'\\33[5;30;47m [INFO] {model_type} Model Size: {mb_size} MB \\33[0m')\n",
        "\n",
        "    # Plot History\n",
        "    metric_loss = history.history['loss']\n",
        "    metric_val_loss = history.history['val_loss']\n",
        "    metric_accuracy = history.history['accuracy']\n",
        "    metric_val_accuracy = history.history['val_accuracy']\n",
        "\n",
        "    # Construct a range object which will be used as x-axis (horizontal plane) of the graph.\n",
        "    epochs = range(len(metric_loss))\n",
        "\n",
        "    # Plot the Graph.\n",
        "    plt.plot(epochs, metric_loss, 'blue', label=metric_loss)\n",
        "    plt.plot(epochs, metric_val_loss, 'red', label=metric_val_loss)\n",
        "    plt.plot(epochs, metric_accuracy, 'magenta', label=metric_accuracy)\n",
        "    plt.plot(epochs, metric_val_accuracy, 'green', label=metric_val_accuracy)\n",
        "\n",
        "    # Add title to the plot.\n",
        "    plt.title(str('Model Metrics'))\n",
        "\n",
        "    # Add legend to the plot.\n",
        "    plt.legend(['loss', 'val_loss', 'accuracy', 'val_accuracy'])\n",
        "\n",
        "    # If the plot already exist, remove\n",
        "    metrics_png_name = f'{model_type}_metrics.png'\n",
        "    path_to_metrics = os.path.join(path_to_model_dir, metrics_png_name)\n",
        "    plt.savefig(path_to_metrics, bbox_inches='tight')\n",
        "    print(f'\\33[1;37;42m [INFO] Successfully Saved {metrics_png_name} \\33[0m')\n",
        "\n",
        "    # MLFlow Metrics\n",
        "    mlflow.log_metric('Input Image Size', IMAGE_SIZE)\n",
        "    mlflow.log_metric('Total Image Data', total_data)\n",
        "    mlflow.log_metric('Train Size', train_size)\n",
        "    mlflow.log_metric('Validation Size', val_size)\n",
        "    mlflow.log_artifact(f'{path_to_metrics}')\n",
        "    mlflow.log_metric('Model Size MB', mb_size)\n",
        "\n",
        "    print(\"\\33[1;30;43m [INFO] MLFlow Run: \\33[0m\", mlflow.active_run().info.run_uuid)\n",
        "mlflow.end_run()\n",
        "\n",
        "# Total Time\n",
        "e_time = time.time()\n",
        "t3 = (e_time-s_time)/60\n",
        "print(f'\\33[5;30;46m [INFO] Completed All process in {round(t3, 2)} Minutes \\33[0m')"
      ]
    },
    {
      "cell_type": "code",
      "execution_count": null,
      "id": "ab0f2a53",
      "metadata": {
        "id": "ab0f2a53"
      },
      "outputs": [],
      "source": [
        "# Load LRCN_model 'runs/train/LRCN4/LRCN_model_loss_0.529_acc_0.859.h5'\n",
        "# saved_model = load_model('runs/train/LRCN4/LRCN_model_loss_0.529_acc_0.859.h5')\n"
      ]
    },
    {
      "cell_type": "code",
      "execution_count": null,
      "id": "dd7a24cd",
      "metadata": {
        "id": "dd7a24cd",
        "outputId": "7f4aaa32-6cff-4425-dbdd-8c10f619ccd5"
      },
      "outputs": [
        {
          "name": "stderr",
          "output_type": "stream",
          "text": [
            "2023-06-04 20:38:50.919787: I tensorflow/core/common_runtime/executor.cc:1197] [/device:CPU:0] (DEBUG INFO) Executor start aborting (this does not indicate an error and you can ignore this message): INVALID_ARGUMENT: You must feed a value for placeholder tensor 'Placeholder/_0' with dtype int32\n",
            "\t [[{{node Placeholder/_0}}]]\n"
          ]
        },
        {
          "name": "stdout",
          "output_type": "stream",
          "text": [
            "17/17 [==============================] - 9s 496ms/step - loss: 3.6860 - accuracy: 0.1066 - categorical_accuracy: 0.1066 - auc: 0.7063 - precision: 0.3750 - recall: 0.0110\n"
          ]
        }
      ],
      "source": [
        "model_evaluation_history_test = model.evaluate(test_gen)\n"
      ]
    },
    {
      "cell_type": "code",
      "execution_count": null,
      "id": "508053a1",
      "metadata": {
        "id": "508053a1",
        "outputId": "f3ef3b93-3afe-4ffc-d5da-6768b1a2d25c"
      },
      "outputs": [
        {
          "data": {
            "text/plain": [
              "<matplotlib.legend.Legend at 0x7f6088a5dfa0>"
            ]
          },
          "execution_count": 21,
          "metadata": {},
          "output_type": "execute_result"
        },
        {
          "data": {
            "image/png": "[encoded data removed]",
            "text/plain": [
              "<Figure size 640x480 with 1 Axes>"
            ]
          },
          "metadata": {},
          "output_type": "display_data"
        }
      ],
      "source": [
        "# Plot History\n",
        "metric_loss = history.history['loss']\n",
        "metric_val_loss = history.history['val_loss']\n",
        "metric_accuracy = history.history['accuracy']\n",
        "metric_val_accuracy = history.history['val_accuracy']\n",
        "metric_val_auc = history.history['val_auc']\n",
        "metric_val_precision = history.history['val_precision']\n",
        "metric_val_recall = history.history['val_recall']\n",
        "#     metric_val_accuracy = history.history['val_accuracy']\n",
        "\n",
        "# Construct a range object which will be used as x-axis (horizontal plane) of the graph.\n",
        "epochs = range(len(metric_loss))\n",
        "\n",
        "# Plot the Graph.\n",
        "plt.plot(epochs, metric_loss, 'blue', label=metric_loss)\n",
        "plt.plot(epochs, metric_val_loss, 'red', label=metric_val_loss)\n",
        "plt.plot(epochs, metric_accuracy, 'magenta', label=metric_accuracy)\n",
        "plt.plot(epochs, metric_val_accuracy, 'green', label=metric_val_accuracy)\n",
        "plt.plot(epochs, metric_val_auc, 'purple', label=metric_val_auc)\n",
        "plt.plot(epochs, metric_val_precision, 'yellow', label=metric_val_precision)\n",
        "plt.plot(epochs, metric_val_recall, 'orange', label=metric_val_recall)\n",
        "\n",
        "# Add title to the plot.\n",
        "plt.title(str('Model Metrics'))\n",
        "\n",
        "# Add legend to the plot.\n",
        "plt.legend(['loss', 'val_loss', 'accuracy', 'val_accuracy','auc','precision','recall'])\n"
      ]
    },
    {
      "cell_type": "code",
      "execution_count": null,
      "id": "6ba6c162",
      "metadata": {
        "id": "6ba6c162",
        "outputId": "12baaaf6-a201-4229-a287-9e033691333f"
      },
      "outputs": [
        {
          "data": {
            "text/plain": [
              "{'loss': [3.4749605655670166,\n",
              "  2.8475208282470703,\n",
              "  2.5013537406921387,\n",
              "  2.1916003227233887,\n",
              "  1.992705225944519],\n",
              " 'accuracy': [0.11577297747135162,\n",
              "  0.208913654088974,\n",
              "  0.2876044511795044,\n",
              "  0.3619428873062134,\n",
              "  0.41991642117500305],\n",
              " 'categorical_accuracy': [0.11577297747135162,\n",
              "  0.208913654088974,\n",
              "  0.2876044511795044,\n",
              "  0.3619428873062134,\n",
              "  0.41991642117500305],\n",
              " 'auc': [0.7326667308807373,\n",
              "  0.8700029850006104,\n",
              "  0.9051236510276794,\n",
              "  0.9308678507804871,\n",
              "  0.9435895681381226],\n",
              " 'precision': [0.8391608595848083,\n",
              "  0.7708333134651184,\n",
              "  0.7343485355377197,\n",
              "  0.7581632733345032,\n",
              "  0.7541818022727966],\n",
              " 'recall': [0.02089136466383934,\n",
              "  0.038649026304483414,\n",
              "  0.07555710524320602,\n",
              "  0.1293523609638214,\n",
              "  0.1805362105369568],\n",
              " 'val_loss': [3.146389961242676,\n",
              "  2.6186861991882324,\n",
              "  2.4205007553100586,\n",
              "  1.8565658330917358,\n",
              "  3.661503314971924],\n",
              " 'val_accuracy': [0.17499999701976776,\n",
              "  0.23749999701976776,\n",
              "  0.30156248807907104,\n",
              "  0.44843751192092896,\n",
              "  0.10468749701976776],\n",
              " 'val_categorical_accuracy': [0.17499999701976776,\n",
              "  0.23749999701976776,\n",
              "  0.30156248807907104,\n",
              "  0.44843751192092896,\n",
              "  0.10468749701976776],\n",
              " 'val_auc': [0.8173981308937073,\n",
              "  0.9021936058998108,\n",
              "  0.9117185473442078,\n",
              "  0.9564409255981445,\n",
              "  0.7102183699607849],\n",
              " 'val_precision': [1.0,\n",
              "  0.692307710647583,\n",
              "  0.8985507488250732,\n",
              "  0.8613138794898987,\n",
              "  0.380952388048172],\n",
              " 'val_recall': [0.02187499962747097,\n",
              "  0.05624999850988388,\n",
              "  0.09687499701976776,\n",
              "  0.18437500298023224,\n",
              "  0.012500000186264515]}"
            ]
          },
          "execution_count": 18,
          "metadata": {},
          "output_type": "execute_result"
        }
      ],
      "source": [
        "history.history"
      ]
    },
    {
      "cell_type": "code",
      "execution_count": null,
      "id": "d012ba5f",
      "metadata": {
        "id": "d012ba5f"
      },
      "outputs": [],
      "source": [
        "model_evaluation_loss, model_evaluation_accuracy,auc, test_auc, test_precision, test_recall= model_evaluation_history"
      ]
    },
    {
      "cell_type": "code",
      "execution_count": null,
      "id": "65030edc",
      "metadata": {
        "id": "65030edc",
        "outputId": "17a9ff3f-c644-4ce7-b15f-2a50392892d7"
      },
      "outputs": [
        {
          "name": "stdout",
          "output_type": "stream",
          "text": [
            "Test Loss: 3.6497700214385986\n",
            "Test Accuracy: 0.10625000298023224\n",
            "Test AUC: 0.7115322351455688\n",
            "Test Precision: 0.4000000059604645\n",
            "Test Recall: 0.012500000186264515\n"
          ]
        }
      ],
      "source": [
        "# model_evaluation_loss, model_evaluation_accuracy , test_auc, test_precision, test_recall = model.evaluate(X_test, y_test)\n",
        "\n",
        "print(\"Test Loss:\", model_evaluation_loss)\n",
        "print(\"Test Accuracy:\", model_evaluation_accuracy)\n",
        "print(\"Test AUC:\", test_auc)\n",
        "print(\"Test Precision:\", test_precision)\n",
        "print(\"Test Recall:\", test_recall)"
      ]
    },
    {
      "cell_type": "code",
      "execution_count": null,
      "id": "c108d499",
      "metadata": {
        "id": "c108d499",
        "outputId": "03370ef4-aee7-48d6-b41b-af1f9103f1dd"
      },
      "outputs": [
        {
          "name": "stdout",
          "output_type": "stream",
          "text": [
            "{'loss': [3.4749605655670166, 2.8475208282470703, 2.5013537406921387, 2.1916003227233887, 1.992705225944519], 'accuracy': [0.11577297747135162, 0.208913654088974, 0.2876044511795044, 0.3619428873062134, 0.41991642117500305], 'categorical_accuracy': [0.11577297747135162, 0.208913654088974, 0.2876044511795044, 0.3619428873062134, 0.41991642117500305], 'auc': [0.7326667308807373, 0.8700029850006104, 0.9051236510276794, 0.9308678507804871, 0.9435895681381226], 'precision': [0.8391608595848083, 0.7708333134651184, 0.7343485355377197, 0.7581632733345032, 0.7541818022727966], 'recall': [0.02089136466383934, 0.038649026304483414, 0.07555710524320602, 0.1293523609638214, 0.1805362105369568], 'val_loss': [3.146389961242676, 2.6186861991882324, 2.4205007553100586, 1.8565658330917358, 3.661503314971924], 'val_accuracy': [0.17499999701976776, 0.23749999701976776, 0.30156248807907104, 0.44843751192092896, 0.10468749701976776], 'val_categorical_accuracy': [0.17499999701976776, 0.23749999701976776, 0.30156248807907104, 0.44843751192092896, 0.10468749701976776], 'val_auc': [0.8173981308937073, 0.9021936058998108, 0.9117185473442078, 0.9564409255981445, 0.7102183699607849], 'val_precision': [1.0, 0.692307710647583, 0.8985507488250732, 0.8613138794898987, 0.380952388048172], 'val_recall': [0.02187499962747097, 0.05624999850988388, 0.09687499701976776, 0.18437500298023224, 0.012500000186264515]}\n"
          ]
        }
      ],
      "source": [
        "print(history.history)\n",
        "import pandas as pd\n",
        "# Create a DataFrame from the history object\n",
        "history_df = pd.DataFrame(history.history)\n",
        "\n",
        "# Save the history DataFrame to a CSV file\n",
        "history_df.to_csv(path_to_model_dir+'history.csv', index=True)\n",
        "\n",
        "# os.path.join(path_to_model_dir, model_file_name)"
      ]
    },
    {
      "cell_type": "code",
      "execution_count": null,
      "id": "87515010",
      "metadata": {
        "id": "87515010"
      },
      "outputs": [],
      "source": [
        "test_score = model.evaluate_generator(testing_generator, batch_size)"
      ]
    },
    {
      "cell_type": "code",
      "execution_count": null,
      "id": "0ec7af2b",
      "metadata": {
        "id": "0ec7af2b",
        "outputId": "9e6e63f5-d9d2-43c7-8150-63c7f4e24c71"
      },
      "outputs": [
        {
          "name": "stdout",
          "output_type": "stream",
          "text": [
            "\u001b[0m\u001b[01;35mLRCN_metrics.png\u001b[0m                    weight-17-0.75.h5  weight-35-0.82.h5\r\n",
            "LRCN_model_loss_0.529_acc_0.859.h5  weight-18-0.78.h5  weight-36-0.87.h5\r\n",
            "weight-01-0.11.h5                   weight-19-0.78.h5  weight-37-0.84.h5\r\n",
            "weight-02-0.32.h5                   weight-20-0.79.h5  weight-38-0.85.h5\r\n",
            "weight-03-0.33.h5                   weight-21-0.75.h5  weight-39-0.87.h5\r\n",
            "weight-04-0.46.h5                   weight-22-0.76.h5  weight-40-0.80.h5\r\n",
            "weight-05-0.45.h5                   weight-23-0.65.h5  weight-41-0.80.h5\r\n",
            "weight-06-0.08.h5                   weight-24-0.84.h5  weight-42-0.87.h5\r\n",
            "weight-07-0.57.h5                   weight-25-0.82.h5  weight-43-0.86.h5\r\n",
            "weight-08-0.61.h5                   weight-26-0.84.h5  weight-44-0.90.h5\r\n",
            "weight-09-0.66.h5                   weight-27-0.85.h5  weight-45-0.88.h5\r\n",
            "weight-10-0.69.h5                   weight-28-0.82.h5  weight-46-0.86.h5\r\n",
            "weight-11-0.69.h5                   weight-29-0.84.h5  weight-47-0.85.h5\r\n",
            "weight-12-0.62.h5                   weight-30-0.84.h5  weight-48-0.85.h5\r\n",
            "weight-13-0.77.h5                   weight-31-0.82.h5  weight-49-0.87.h5\r\n",
            "weight-14-0.77.h5                   weight-32-0.86.h5  weight-50-0.86.h5\r\n",
            "weight-15-0.75.h5                   weight-33-0.85.h5\r\n",
            "weight-16-0.78.h5                   weight-34-0.83.h5\r\n"
          ]
        }
      ],
      "source": [
        "ls 'runs/train/LRCN4/LRCN_model_loss_0.529_acc_0.859.h5'"
      ]
    },
    {
      "cell_type": "code",
      "execution_count": null,
      "id": "19836dd8",
      "metadata": {
        "id": "19836dd8"
      },
      "outputs": [],
      "source": [
        "\n"
      ]
    },
    {
      "cell_type": "code",
      "execution_count": null,
      "id": "dfea3e02",
      "metadata": {
        "id": "dfea3e02"
      },
      "outputs": [],
      "source": [
        " saved_model = load_model('runs/train/LRCN4/LRCN_model_loss_0.529_acc_0.859.h5')"
      ]
    },
    {
      "cell_type": "code",
      "execution_count": null,
      "id": "fca00256",
      "metadata": {
        "id": "fca00256"
      },
      "outputs": [],
      "source": []
    },
    {
      "cell_type": "code",
      "execution_count": null,
      "id": "847518c1",
      "metadata": {
        "id": "847518c1"
      },
      "outputs": [],
      "source": [
        "\n"
      ]
    },
    {
      "cell_type": "code",
      "execution_count": null,
      "id": "6711d3fc",
      "metadata": {
        "id": "6711d3fc"
      },
      "outputs": [],
      "source": [
        "\n"
      ]
    },
    {
      "cell_type": "code",
      "execution_count": null,
      "id": "3b788009",
      "metadata": {
        "id": "3b788009"
      },
      "outputs": [],
      "source": [
        "\n"
      ]
    },
    {
      "cell_type": "code",
      "execution_count": null,
      "id": "a23a692a",
      "metadata": {
        "id": "a23a692a"
      },
      "outputs": [],
      "source": [
        "\n"
      ]
    },
    {
      "cell_type": "code",
      "execution_count": null,
      "id": "2ba786ec",
      "metadata": {
        "scrolled": true,
        "id": "2ba786ec"
      },
      "outputs": [],
      "source": []
    },
    {
      "cell_type": "code",
      "execution_count": null,
      "id": "cc8dc844",
      "metadata": {
        "id": "cc8dc844"
      },
      "outputs": [],
      "source": []
    },
    {
      "cell_type": "code",
      "execution_count": null,
      "id": "a578069c",
      "metadata": {
        "id": "a578069c"
      },
      "outputs": [],
      "source": []
    },
    {
      "cell_type": "code",
      "execution_count": null,
      "id": "25435fae",
      "metadata": {
        "id": "25435fae"
      },
      "outputs": [],
      "source": []
    },
    {
      "cell_type": "code",
      "execution_count": null,
      "id": "13af1d4d",
      "metadata": {
        "id": "13af1d4d"
      },
      "outputs": [],
      "source": []
    },
    {
      "cell_type": "code",
      "execution_count": null,
      "id": "2f965203",
      "metadata": {
        "id": "2f965203"
      },
      "outputs": [],
      "source": []
    },
    {
      "cell_type": "code",
      "execution_count": null,
      "id": "133381d9",
      "metadata": {
        "id": "133381d9"
      },
      "outputs": [],
      "source": []
    },
    {
      "cell_type": "code",
      "execution_count": null,
      "id": "3370c82d",
      "metadata": {
        "id": "3370c82d"
      },
      "outputs": [],
      "source": []
    },
    {
      "cell_type": "code",
      "execution_count": null,
      "id": "5269e764",
      "metadata": {
        "id": "5269e764"
      },
      "outputs": [],
      "source": []
    },
    {
      "cell_type": "code",
      "execution_count": null,
      "id": "c8716f29",
      "metadata": {
        "id": "c8716f29"
      },
      "outputs": [],
      "source": []
    },
    {
      "cell_type": "code",
      "execution_count": null,
      "id": "0c209d84",
      "metadata": {
        "id": "0c209d84"
      },
      "outputs": [],
      "source": []
    },
    {
      "cell_type": "code",
      "execution_count": null,
      "id": "e268d3b7",
      "metadata": {
        "id": "e268d3b7"
      },
      "outputs": [],
      "source": []
    },
    {
      "cell_type": "code",
      "execution_count": null,
      "id": "b776cc64",
      "metadata": {
        "id": "b776cc64"
      },
      "outputs": [],
      "source": []
    },
    {
      "cell_type": "code",
      "execution_count": null,
      "id": "57f03b9c",
      "metadata": {
        "id": "57f03b9c"
      },
      "outputs": [],
      "source": []
    },
    {
      "cell_type": "code",
      "execution_count": null,
      "id": "26998923",
      "metadata": {
        "id": "26998923"
      },
      "outputs": [],
      "source": []
    },
    {
      "cell_type": "code",
      "execution_count": null,
      "id": "d9eecf29",
      "metadata": {
        "id": "d9eecf29"
      },
      "outputs": [],
      "source": []
    },
    {
      "cell_type": "code",
      "execution_count": null,
      "id": "00daf35a",
      "metadata": {
        "id": "00daf35a"
      },
      "outputs": [],
      "source": []
    },
    {
      "cell_type": "code",
      "execution_count": null,
      "id": "5cfd11ae",
      "metadata": {
        "id": "5cfd11ae"
      },
      "outputs": [],
      "source": []
    },
    {
      "cell_type": "code",
      "execution_count": null,
      "id": "7ef9fdeb",
      "metadata": {
        "id": "7ef9fdeb"
      },
      "outputs": [],
      "source": []
    },
    {
      "cell_type": "code",
      "execution_count": null,
      "id": "d6e7b864",
      "metadata": {
        "id": "d6e7b864"
      },
      "outputs": [],
      "source": []
    },
    {
      "cell_type": "code",
      "execution_count": null,
      "id": "e0fba7cf",
      "metadata": {
        "id": "e0fba7cf"
      },
      "outputs": [],
      "source": []
    },
    {
      "cell_type": "code",
      "execution_count": null,
      "id": "a24f0fb4",
      "metadata": {
        "id": "a24f0fb4"
      },
      "outputs": [],
      "source": []
    }
  ],
  "metadata": {
    "kernelspec": {
      "display_name": "Python 3",
      "name": "python3"
    },
    "language_info": {
      "name": "python"
    },
    "colab": {
      "provenance": [],
      "machine_shape": "hm",
      "gpuType": "T4",
      "include_colab_link": true
    },
    "accelerator": "GPU"
  },
  "nbformat": 4,
  "nbformat_minor": 5
}